{
 "cells": [
  {
   "cell_type": "markdown",
   "metadata": {},
   "source": [
    "# 딕셔너리\n",
    " - 딕셔너리는 원본 데이터가 영향 받지 않고 새로운 값으로 return 한다."
   ]
  },
  {
   "cell_type": "markdown",
   "metadata": {},
   "source": [
    "## 딕셔너리를 사용하지 않은 경우"
   ]
  },
  {
   "cell_type": "code",
   "execution_count": 1,
   "metadata": {},
   "outputs": [
    {
     "name": "stdout",
     "output_type": "stream",
     "text": [
      "['애완동물', '댕댕이라고도 함', '반려견']\n"
     ]
    }
   ],
   "source": [
    "def indexFind(word, find):\n",
    "    chk = 0\n",
    "    for cnt, i in enumerate(word):\n",
    "        if i == find:\n",
    "            chk = 1\n",
    "            break\n",
    "    if chk == 0:\n",
    "        print('찾는 단어 없음.')\n",
    "        return 999\n",
    "    return cnt\n",
    "\n",
    "word = ['눈', 'b', '강아지']\n",
    "y = [\n",
    "    ['사람의 눈', '기상에서의 눈'],\n",
    "    ['날다'],\n",
    "    ['애완동물', '댕댕이라고도 함', '반려견']\n",
    "]\n",
    "\n",
    "find = '강아지'\n",
    "cnt = indexFind(word, find)\n",
    "if cnt != 999:\n",
    "    print(y[cnt])"
   ]
  },
  {
   "cell_type": "markdown",
   "metadata": {},
   "source": [
    "## 딕셔너리 사용한 경우"
   ]
  },
  {
   "cell_type": "code",
   "execution_count": 2,
   "metadata": {},
   "outputs": [
    {
     "data": {
      "text/plain": [
       "'눈'"
      ]
     },
     "execution_count": 2,
     "metadata": {},
     "output_type": "execute_result"
    }
   ],
   "source": [
    "data = {\n",
    "    '눈': ['사람의 눈', '기상에서의 눈'],\n",
    "    '난다': ['날다'],\n",
    "    '강아지': ['애완동물', '댕댕이라고도 함', '반려견']\n",
    "}\n",
    "\n",
    "type(data)\n",
    "data['강아지']\n",
    "\n",
    "# 인덱싱 지원 안함. 형변환 필요.\n",
    "data.keys()\n",
    "list(data.keys())[0]"
   ]
  },
  {
   "cell_type": "markdown",
   "metadata": {},
   "source": [
    "# 책"
   ]
  },
  {
   "cell_type": "markdown",
   "metadata": {},
   "source": [
    "## 딕셔너리 키와 값"
   ]
  },
  {
   "cell_type": "code",
   "execution_count": 3,
   "metadata": {},
   "outputs": [
    {
     "name": "stdout",
     "output_type": "stream",
     "text": [
      "깨어지다\n",
      "가져오다\n"
     ]
    }
   ],
   "source": [
    "eng = {\n",
    "    'break': '깨어지다',\n",
    "    'bring': '가져오다',\n",
    "    'brush': '붓',\n",
    "    'brave': '용감한',\n",
    "}\n",
    "\n",
    "print(eng['break'])\n",
    "print(eng['bring'])"
   ]
  },
  {
   "cell_type": "markdown",
   "metadata": {},
   "source": [
    "### 딕셔너리 키 삭제"
   ]
  },
  {
   "cell_type": "code",
   "execution_count": 4,
   "metadata": {},
   "outputs": [
    {
     "data": {
      "text/plain": [
       "{'break': '깨어지다', 'brush': '붓', 'brave': '용감한'}"
      ]
     },
     "execution_count": 4,
     "metadata": {},
     "output_type": "execute_result"
    }
   ],
   "source": [
    "del eng['bring']\n",
    "eng"
   ]
  },
  {
   "cell_type": "markdown",
   "metadata": {},
   "source": [
    "## 딕셔너리 관련 명령어 사용하기\n",
    "1. keys(): 딕셔너리 키 값만꺼내기\n",
    "2. values(): 딕셔너리 값만꺼내기\n",
    "3. items(): 딕셔너리 키-값, 한 쌍 값만꺼내기\n",
    "2. sorted(): 딕셔너리 정렬 - key, value\n"
   ]
  },
  {
   "cell_type": "code",
   "execution_count": 5,
   "metadata": {},
   "outputs": [
    {
     "name": "stdout",
     "output_type": "stream",
     "text": [
      "키: dict_keys(['break', 'brush', 'brave'])\n",
      "값: dict_values(['깨어지다', '붓', '용감한'])\n",
      "키-값 한쌍: dict_items([('break', '깨어지다'), ('brush', '붓'), ('brave', '용감한')])\n",
      "키-값 정렬(오름차순): ['brave', 'break', 'brush']\n",
      "키-값 정렬(내림차순): ['brush', 'break', 'brave']\n",
      "딕셔너리 정렬(키 값 기준으로 나옴): ['brave', 'break', 'brush']\n",
      "딕셔너리 한쌍 정렬: [('brave', '용감한'), ('break', '깨어지다'), ('brush', '붓')]\n",
      "한쌍, 값 기준으로 정렬: [('요리', 491), ('다이어트', 362), ('강아지', 290), ('먹방', 194), ('뉴스', 85)]\n"
     ]
    }
   ],
   "source": [
    "# 딕셔너리 키 값만 확인\n",
    "print('키:', eng.keys())\n",
    "\n",
    "# 딕셔너리 값만 확인\n",
    "print('값:', eng.values())\n",
    "\n",
    "# 딕셔너리 한쌍 - key 값 기준, value 기준\n",
    "print('키-값 한쌍:', eng.items())\n",
    "\n",
    "# 딕셔너리 정렬 - 오름차순, 내림차순\n",
    "## 오름차순 및 내림차순\n",
    "### 오름차순\n",
    "print('키-값 정렬(오름차순):', sorted(eng.keys()))\n",
    "###  내림차순\n",
    "print('키-값 정렬(내림차순):', sorted(eng.keys(), reverse=True))\n",
    "## 딕셔너리 기준\n",
    "### sorted만 사용시 키 값 기준으로 return\n",
    "print('딕셔너리 정렬(키 값 기준으로 나옴):', sorted(eng))\n",
    "### 한쌍으로 정렬 원할시, items 사용(키 기준 정렬)\n",
    "print('딕셔너리 한쌍 정렬:', sorted(eng.items()))\n",
    "### 한쌍, 값 기준으로 정렬\n",
    "import operator\n",
    "history = {\n",
    "    '강아지': 290,\n",
    "    '먹방': 194,\n",
    "    '요리': 491,\n",
    "    '뉴스': 85,\n",
    "    '다이어트': 362\n",
    "}\n",
    "\n",
    "print('한쌍, 값 기준으로 정렬:', sorted(history.items(), reverse=True, key=operator.itemgetter(1)))"
   ]
  },
  {
   "cell_type": "markdown",
   "metadata": {},
   "source": [
    "## 책 문제 풀기"
   ]
  },
  {
   "cell_type": "code",
   "execution_count": 6,
   "metadata": {},
   "outputs": [
    {
     "name": "stdout",
     "output_type": "stream",
     "text": [
      "1번 답 {'월요일': 'Mon', '화요일': 'Tue', '수요일': 'Wed', '목요일': 'Thu', '금요일': 'Fri', '토요일': 'Sat', '일요일': 'Sun'}\n",
      "2번 답 {'월요일': 'Mon', '화요일': 'Tue', '수요일': 'Wed', '목요일': 'Thu', '금요일': 'Fri', '토요일': 'Sat', '일요일': 'SUN'}\n",
      "3번 답 {'월요일': 'Mon', '화요일': 'Tue', '목요일': 'Thu', '금요일': 'Fri', '토요일': 'Sat', '일요일': 'SUN'}\n"
     ]
    }
   ],
   "source": [
    "day = {\n",
    "    '월요일': 'Mon',\n",
    "    '화요일': 'Tue',\n",
    "    '수요일': 'Wed',\n",
    "    '목요일': 'Thu',\n",
    "    '금요일': 'Fri'\n",
    "}\n",
    "\n",
    "# 1번 답\n",
    "day['토요일'] = 'Sat'\n",
    "day['일요일'] = 'Sun'\n",
    "print('1번 답', day)\n",
    "\n",
    "# 2번 답\n",
    "day['일요일'] = 'SUN'\n",
    "print('2번 답', day)\n",
    "\n",
    "# 3번 답\n",
    "del day['수요일']\n",
    "print('3번 답', day)"
   ]
  },
  {
   "cell_type": "markdown",
   "metadata": {},
   "source": [
    "## 2번 질문\n",
    " - 제작비 인상해야 한다.\n",
    " - 15,000원 이하면 10% 인상, 15,000원 초과면 5% 인상"
   ]
  },
  {
   "cell_type": "code",
   "execution_count": 17,
   "metadata": {},
   "outputs": [
    {
     "data": {
      "text/plain": [
       "{'역사대모험': 22000, '영단어': 9450, '파이썬': 18700, '여행에세이': 24200, '삼국지': 36300}"
      ]
     },
     "execution_count": 17,
     "metadata": {},
     "output_type": "execute_result"
    }
   ],
   "source": [
    "book = {\n",
    "    '역사대모험': 20000,\n",
    "    '영단어': 9000,\n",
    "    '파이썬': 17000,\n",
    "    '여행에세이': 22000,\n",
    "    '삼국지': 33000\n",
    "}\n",
    "\n",
    "# 답\n",
    "for key in book:\n",
    "    increase = 0.05\n",
    "    price = book[key]\n",
    "\n",
    "    if price > 15000:\n",
    "        increase = 0.1\n",
    "    \n",
    "    increasedPrice = price + price * increase\n",
    "    book[key] = int(increasedPrice)\n",
    "\n",
    "book"
   ]
  },
  {
   "cell_type": "markdown",
   "metadata": {},
   "source": [
    "## 3번 질문\n",
    " - 득표수가 높은 참가자부터 낮은 참가자 순서대로 정렬"
   ]
  },
  {
   "cell_type": "code",
   "execution_count": 20,
   "metadata": {},
   "outputs": [
    {
     "data": {
      "text/plain": [
       "[('라이언', 956412),\n",
       " ('니니즈', 861832),\n",
       " ('오파차', 796354),\n",
       " ('프로도', 534840),\n",
       " ('네오', 387896)]"
      ]
     },
     "execution_count": 20,
     "metadata": {},
     "output_type": "execute_result"
    }
   ],
   "source": [
    "ranking = {\n",
    "    '라이언': 956412,\n",
    "    '오파차': 796354,\n",
    "    '니니즈': 861832,\n",
    "    '네오': 387896,\n",
    "    '프로도': 534840\n",
    "}\n",
    "\n",
    "sorted(ranking.items(), reverse=True, key=operator.itemgetter(1))"
   ]
  }
 ],
 "metadata": {
  "kernelspec": {
   "display_name": "OpenAI",
   "language": "python",
   "name": "python3"
  },
  "language_info": {
   "codemirror_mode": {
    "name": "ipython",
    "version": 3
   },
   "file_extension": ".py",
   "mimetype": "text/x-python",
   "name": "python",
   "nbconvert_exporter": "python",
   "pygments_lexer": "ipython3",
   "version": "3.12.1"
  }
 },
 "nbformat": 4,
 "nbformat_minor": 2
}
