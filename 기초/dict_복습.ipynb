{
 "cells": [
  {
   "cell_type": "markdown",
   "metadata": {},
   "source": []
  },
  {
   "cell_type": "code",
   "execution_count": 4,
   "metadata": {},
   "outputs": [],
   "source": [
    "data={\n",
    "    '여행지': ['서울시내', '경기', '전주', '부산', '제주'],\n",
    "    '예상경비1일': ['50000','100000','200000'],\n",
    "    '예상일정': ['3일','2일']\n",
    "}\n"
   ]
  },
  {
   "cell_type": "markdown",
   "metadata": {},
   "source": [
    "### 미션 1, 딕셔너리 구조의 인덱싱\n",
    "- 딕셔너리 구조는 json 파일 형식으로 작성할수 있음."
   ]
  },
  {
   "cell_type": "code",
   "execution_count": 10,
   "metadata": {},
   "outputs": [
    {
     "data": {
      "text/plain": [
       "['3일', '2일']"
      ]
     },
     "execution_count": 10,
     "metadata": {},
     "output_type": "execute_result"
    }
   ],
   "source": [
    "# 미션 1-1: data의 '예상일정'을 출력합니다.\n",
    "data['예상일정']"
   ]
  },
  {
   "cell_type": "code",
   "execution_count": 11,
   "metadata": {},
   "outputs": [
    {
     "data": {
      "text/plain": [
       "'서울시내'"
      ]
     },
     "execution_count": 11,
     "metadata": {},
     "output_type": "execute_result"
    }
   ],
   "source": [
    "# 미션 1-2: data의 '여행지'의 첫번째 '서울시내'를 출력합니다.\n",
    "data['여행지'][0]"
   ]
  },
  {
   "cell_type": "code",
   "execution_count": 12,
   "metadata": {},
   "outputs": [
    {
     "data": {
      "text/plain": [
       "'전주'"
      ]
     },
     "execution_count": 12,
     "metadata": {},
     "output_type": "execute_result"
    }
   ],
   "source": [
    "# 미션 1-3: data의 '여행지'의 두번째, 세번째 '경기','전주'를 출력합니다.\n",
    "data['여행지'][1]\n",
    "data['여행지'][2]"
   ]
  },
  {
   "cell_type": "code",
   "execution_count": 13,
   "metadata": {},
   "outputs": [
    {
     "data": {
      "text/plain": [
       "'부산'"
      ]
     },
     "execution_count": 13,
     "metadata": {},
     "output_type": "execute_result"
    }
   ],
   "source": [
    "# 미션 1-4: data의 '여행지'의 끝에서 두번째 '부산'을 출력합니다. (- 값으로 인덱싱) \n",
    "data['여행지'][-2]"
   ]
  },
  {
   "cell_type": "markdown",
   "metadata": {},
   "source": [
    "### 미션 2, 데이터 원소갯수 구하기 (len함수)"
   ]
  },
  {
   "cell_type": "code",
   "execution_count": 16,
   "metadata": {},
   "outputs": [
    {
     "name": "stdout",
     "output_type": "stream",
     "text": [
      "여행지 원소 수: 5\n",
      "예상경비1일 원소 수: 3\n",
      "예상일정 원소 수: 2\n"
     ]
    }
   ],
   "source": [
    "# 미션 2-1: 여행지, 예상경비1일, 예상일정의 항목갯수(원소갯수)를 print문으로 출력합니다.\n",
    "for key in data:\n",
    "    cnt = len(data[key])\n",
    "    print('{} 원소 수: {}'.format(key, cnt))"
   ]
  },
  {
   "cell_type": "markdown",
   "metadata": {},
   "source": [
    "### [미션3] 랜덤값으로 여행일정 짜기"
   ]
  },
  {
   "cell_type": "code",
   "execution_count": 19,
   "metadata": {},
   "outputs": [],
   "source": [
    "import random\n",
    "randomNum = random.randrange(0,4)   # 0,1,2,3의 random값 나옴 ctrl+enter 여러번 수행하면서 확인"
   ]
  },
  {
   "cell_type": "code",
   "execution_count": 20,
   "metadata": {},
   "outputs": [
    {
     "data": {
      "text/plain": [
       "'전주'"
      ]
     },
     "execution_count": 20,
     "metadata": {},
     "output_type": "execute_result"
    }
   ],
   "source": [
    "## 미션 3-1: 여행지의 갯수가 0,1,2,3,4번 5개임, 0~5개의 숫자가 나올수 있도록 작성합니다.\n",
    "## 여행지에서 random하게 지역을 출력합니다.\n",
    "data['여행지'][randomNum]"
   ]
  },
  {
   "cell_type": "code",
   "execution_count": 21,
   "metadata": {},
   "outputs": [
    {
     "data": {
      "text/plain": [
       "'제주'"
      ]
     },
     "execution_count": 21,
     "metadata": {},
     "output_type": "execute_result"
    }
   ],
   "source": [
    "## 미션 3-2: random으로 나올수 있는 마지막 값을 여행지의 갯수 len함수로 지정함.\n",
    "data['여행지'][-1]"
   ]
  },
  {
   "cell_type": "code",
   "execution_count": 22,
   "metadata": {},
   "outputs": [
    {
     "name": "stdout",
     "output_type": "stream",
     "text": [
      "여행지: 부산\n",
      "예상경비1일: 100000\n",
      "예상일정: 3일\n"
     ]
    }
   ],
   "source": [
    "## 미션 3-3: random으로 여행지, 예상경비1일, 예상일정을 출력하세요.\n",
    "for key in data:\n",
    "    targetData = data[key]\n",
    "    randomNum = random.randrange(0, len(targetData) - 1)\n",
    "\n",
    "    print('{}: {}'.format(key, targetData[randomNum]))"
   ]
  },
  {
   "cell_type": "markdown",
   "metadata": {},
   "source": [
    "### [미션4] 정규표현식에 대하여 공부하여 봅니다."
   ]
  },
  {
   "cell_type": "code",
   "execution_count": 23,
   "metadata": {},
   "outputs": [],
   "source": [
    "data = {\n",
    "    '여행지': ['서울시내', '경기', '전주', '부산', '제주'],\n",
    "    '예상경비1일': ['50000', '100000', '200000'],\n",
    "    '예상일정': ['!3일정도', '2일^^^']\n",
    "}"
   ]
  },
  {
   "cell_type": "code",
   "execution_count": 24,
   "metadata": {},
   "outputs": [
    {
     "data": {
      "text/plain": [
       "{'여행지': ['서울시내', '경기', '전주', '부산', '제주'],\n",
       " '예상경비1일': ['50000', '100000', '200000'],\n",
       " '예상일정': ['3', '2']}"
      ]
     },
     "execution_count": 24,
     "metadata": {},
     "output_type": "execute_result"
    }
   ],
   "source": [
    "import re\n",
    "\n",
    "# 미션 4-1: data['예상일정']에서 숫자만 남기고 나머지 글자는 모두 제거\n",
    "\n",
    "# 숫자가 아닌 것들을 찾는 패턴\n",
    "pattern = r'\\D'\n",
    "\n",
    "for i, value in enumerate(data['예상일정']):\n",
    "    data['예상일정'][i] = re.sub(pattern, '', value)\n",
    "\n",
    "data"
   ]
  },
  {
   "cell_type": "markdown",
   "metadata": {},
   "source": [
    "### [미션5]:\n",
    "- 아래와 같은 여행 일정의, 국내여행과 해외여행에 관한 정보가 있는 딕셔너리 구조에서의 인덱싱"
   ]
  },
  {
   "cell_type": "code",
   "execution_count": 2,
   "metadata": {},
   "outputs": [],
   "source": [
    "data = {\n",
    "    '여행': [\n",
    "        {\n",
    "            '여행지': ['서울시내', '경기', '전주', '부산', '제주'],\n",
    "            '예상경비1일':['50000', '100000', '200000'],\n",
    "            '예상일정': ['!3일정도', '2일^^^']\n",
    "        },\n",
    "        {\n",
    "            '여행지': ['유럽', '아시아'],\n",
    "            '예상경비1일': ['100000', '400000', '300000', '150000'],\n",
    "            '예상일정': ['4일갈까?', '~7일도좋아', '20일##']\n",
    "        }\n",
    "    ]\n",
    "}\n",
    "\n",
    "tripData = data['여행']"
   ]
  },
  {
   "cell_type": "code",
   "execution_count": 42,
   "metadata": {},
   "outputs": [
    {
     "name": "stdout",
     "output_type": "stream",
     "text": [
      "국내 여행 ['서울시내', '경기', '전주', '부산', '제주']\n",
      "해외 여행 ['유럽', '아시아']\n"
     ]
    }
   ],
   "source": [
    "# 미션: 국내여행과 해외여행 출력\n",
    "domestic = ['서울시내', '경기', '전주', '부산', '제주']\n",
    "domesticTravel = []\n",
    "internationalTravel = []\n",
    "\n",
    "for trip in tripData:\n",
    "    if any(location in trip['여행지'] for location in domestic):\n",
    "        domesticTravel = trip['여행지']\n",
    "    else:\n",
    "        internationalTravel = trip['여행지']\n",
    "\n",
    "print('국내 여행', domesticTravel)\n",
    "print('해외 여행', internationalTravel)"
   ]
  },
  {
   "cell_type": "code",
   "execution_count": 10,
   "metadata": {},
   "outputs": [
    {
     "name": "stdout",
     "output_type": "stream",
     "text": [
      "국내/해외: 국내, 여행지: 전주, 예상경비1일: 50000, 예상일정: 3, 총경비: 150000\n",
      "국내/해외: 해외, 여행지: 유럽, 예상경비1일: 300000, 예상일정: 4, 총경비: 1200000\n"
     ]
    }
   ],
   "source": [
    "# 최종: 국내, 해외에 있는 여행지, 경비, 일정이 랜덤하게 만듦.\n",
    "# 예상경비1일*예상일정이 들어간 최종 경비까지 출력.\n",
    "# 최종 출력: 해외/국내, 여행지, 예상경비1일, 예상일정, 총경비\n",
    "import re\n",
    "import random\n",
    "\n",
    "def randomData(arrayData):\n",
    "    inx = random.randrange(0, len(arrayData)-1)\n",
    "    return arrayData[inx]\n",
    "\n",
    "pattern = r'\\D'\n",
    "\n",
    "domestic = ['서울시내', '경기', '전주', '부산', '제주']\n",
    "domesticTravel = []\n",
    "internationalTravel = []\n",
    "\n",
    "for row in tripData:\n",
    "    isInternational = '해외'\n",
    "    travelDestination = randomData(row['여행지']) # 여행지\n",
    "    estimatedDailyExpense = int(randomData(row['예상경비1일'])) # 예상 경비 1일\n",
    "    estimatedItinerary = int(re.sub(pattern, '', randomData(row['예상일정']))) # 예상 일정\n",
    "    totalExpense = estimatedDailyExpense * int(estimatedItinerary) # 총 경비\n",
    "\n",
    "    if any(location in travelDestination for location in domestic):\n",
    "        isInternational = '국내'\n",
    "\n",
    "    print('국내/해외: {}, 여행지: {}, 예상경비1일: {}, 예상일정: {}, 총경비: {}'.format(\n",
    "        isInternational,\n",
    "        travelDestination,\n",
    "        estimatedDailyExpense,\n",
    "        estimatedItinerary,\n",
    "        totalExpense\n",
    "    ))"
   ]
  }
 ],
 "metadata": {
  "kernelspec": {
   "display_name": "OpenAI",
   "language": "python",
   "name": "python3"
  },
  "language_info": {
   "codemirror_mode": {
    "name": "ipython",
    "version": 3
   },
   "file_extension": ".py",
   "mimetype": "text/x-python",
   "name": "python",
   "nbconvert_exporter": "python",
   "pygments_lexer": "ipython3",
   "version": "3.12.1"
  }
 },
 "nbformat": 4,
 "nbformat_minor": 2
}
