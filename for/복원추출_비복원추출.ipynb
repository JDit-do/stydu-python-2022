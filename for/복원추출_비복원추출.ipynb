{
 "cells": [
  {
   "cell_type": "markdown",
   "metadata": {},
   "source": [
    "# 복원 추출과 비복원 추출\n",
    "## 복원 추출이란\n",
    "- 선택된 항목을 다시 추출할 수 있음."
   ]
  },
  {
   "cell_type": "code",
   "execution_count": 4,
   "metadata": {},
   "outputs": [
    {
     "name": "stdout",
     "output_type": "stream",
     "text": [
      "복원 추출 예시: [2, 5, 2]\n"
     ]
    }
   ],
   "source": [
    "import random\n",
    "\n",
    "samples = []\n",
    "for _ in range(3):\n",
    "    sample = random.choice([1, 2, 3, 4, 5])\n",
    "    samples.append(sample)\n",
    "\n",
    "print(\"복원 추출 예시:\", samples)"
   ]
  },
  {
   "cell_type": "markdown",
   "metadata": {},
   "source": [
    "\n",
    "## 비복원 추출이란\n",
    "- 선택된 항목을 다시 추출할 수 있음."
   ]
  },
  {
   "cell_type": "code",
   "execution_count": 5,
   "metadata": {},
   "outputs": [
    {
     "name": "stdout",
     "output_type": "stream",
     "text": [
      "비복원 추출 예시: [2, 5, 4]\n"
     ]
    }
   ],
   "source": [
    "import random\n",
    "\n",
    "population = [1, 2, 3, 4, 5]\n",
    "samples = random.sample(population, 3)\n",
    "\n",
    "print(\"비복원 추출 예시:\", samples)\n"
   ]
  }
 ],
 "metadata": {
  "kernelspec": {
   "display_name": "OpenAI",
   "language": "python",
   "name": "python3"
  },
  "language_info": {
   "codemirror_mode": {
    "name": "ipython",
    "version": 3
   },
   "file_extension": ".py",
   "mimetype": "text/x-python",
   "name": "python",
   "nbconvert_exporter": "python",
   "pygments_lexer": "ipython3",
   "version": "3.12.1"
  }
 },
 "nbformat": 4,
 "nbformat_minor": 2
}
