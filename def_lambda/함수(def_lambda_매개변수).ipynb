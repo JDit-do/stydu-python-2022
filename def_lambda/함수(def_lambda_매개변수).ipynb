{
 "cells": [
  {
   "cell_type": "markdown",
   "metadata": {},
   "source": [
    "# 함수(def)\n",
    "## return\n",
    "### return 값은 언제나 1개\n",
    "- 아래와 같이 ,를 구분으로 n개이상 return할때 하나의 튜플 값으로 감싸서 return됨.\n",
    "- 값이 없을 경우, None으로 나옴."
   ]
  },
  {
   "cell_type": "code",
   "execution_count": 14,
   "metadata": {},
   "outputs": [
    {
     "name": "stdout",
     "output_type": "stream",
     "text": [
      "7\n"
     ]
    }
   ],
   "source": [
    "def add_and_mul(a,b): \n",
    "    return a+b, a*b\n",
    "\n",
    "result1, result2 = add_and_mul(3, 4)\n",
    "# (7, 12)\n",
    "print(result1)"
   ]
  },
  {
   "cell_type": "markdown",
   "metadata": {},
   "source": [
    "## 매개변수\n",
    "### 매개변수 있는 경우와 없는 경우"
   ]
  },
  {
   "cell_type": "code",
   "execution_count": 1,
   "metadata": {},
   "outputs": [
    {
     "name": "stdout",
     "output_type": "stream",
     "text": [
      "4\n"
     ]
    }
   ],
   "source": [
    "# 함수 - 매개변수 x\n",
    "def say(): \n",
    "    return 'Hi'\n",
    "\n",
    "# 함수 - 매개변수 o\n",
    "def sub(a, b):\n",
    "    return a - b\n",
    "result = sub(a=7, b=3)\n",
    "print(result)"
   ]
  },
  {
   "cell_type": "markdown",
   "metadata": {},
   "source": [
    "### 매개변수 가변적일 때\n",
    "#### *변수명(*args): (1, 2, ...) 형태로 들어옴 \n",
    "```python\n",
    "def 함수_이름(*매개변수):\n",
    "    수행할_문장\n",
    "\n",
    "```"
   ]
  },
  {
   "cell_type": "code",
   "execution_count": 9,
   "metadata": {},
   "outputs": [
    {
     "name": "stdout",
     "output_type": "stream",
     "text": [
      "들어오는 형태 : (1, 2, 3, 4, 5, 6, 7, 8, 9, 10)\n",
      "예시 1) : 55\n",
      "예시 2) : 120\n"
     ]
    }
   ],
   "source": [
    "# 예 1)\n",
    "def add_many(*args): \n",
    "    print('들어오는 형태 :', args)\n",
    "    result = 0 \n",
    "    for i in args: \n",
    "        result = result + i\n",
    "    return result\n",
    "\n",
    "result = add_many(1, 2, 3, 4, 5, 6, 7, 8, 9, 10)\n",
    "print('예시 1) :', result)\n",
    "\n",
    "# 예 2)\n",
    "def add_mul(choice, *args): \n",
    "    if choice == \"add\":\n",
    "        result = 0 \n",
    "        for i in args: \n",
    "            result = result + i\n",
    "\n",
    "    elif choice == \"mul\": \n",
    "        result = 1\n",
    "\n",
    "        for i in args: \n",
    "            result = result * i \n",
    "    return result \n",
    "result = add_mul('mul', 1,2,3,4,5)\n",
    "print('예시 2) :', result)"
   ]
  },
  {
   "cell_type": "markdown",
   "metadata": {},
   "source": [
    "#### **변수명(**kwargs): {'name': 'foo', 'age': 3} 형태로 들어옴\n",
    "- 딕셔너리구조의 데이터셋을 함수로 받을때 사용함.\n",
    "\n",
    "```python\n",
    "def 함수_이름(**매개변수):\n",
    "    수행할_문장\n",
    "```"
   ]
  },
  {
   "cell_type": "code",
   "execution_count": 4,
   "metadata": {},
   "outputs": [
    {
     "name": "stdout",
     "output_type": "stream",
     "text": [
      "{'name': 'foo', 'age': 3}\n",
      "{'name': ['foo', 'boo'], 'age': [3]}\n",
      "{'name': ['a', 'b', 'c'], 'age': [20, 30, 40]}\n",
      "name= a  age= 20\n",
      "name= b  age= 30\n",
      "name= c  age= 40\n"
     ]
    },
    {
     "data": {
      "image/png": "[encoded data removed]",
      "text/plain": [
       "<Figure size 640x480 with 1 Axes>"
      ]
     },
     "metadata": {},
     "output_type": "display_data"
    },
    {
     "data": {
      "image/png": "[encoded data removed]",
      "text/plain": [
       "<Figure size 640x480 with 1 Axes>"
      ]
     },
     "metadata": {},
     "output_type": "display_data"
    }
   ],
   "source": [
    "# 예 1)\n",
    "def print_kwargs(**kwargs):\n",
    "    print(kwargs)\n",
    "\n",
    "print_kwargs(name='foo', age=3)\n",
    "print_kwargs(name=['foo', 'boo'], age=[3])\n",
    "\n",
    "# 예 2)\n",
    "def test_kwargs(**kwargs):\n",
    "    print(kwargs)\n",
    "\n",
    "    for x, y in zip(kwargs['name'], kwargs['age']):\n",
    "        print('name=', x, ' age=', y)\n",
    "\n",
    "name=['a','b','c']\n",
    "age=[20,30,40]\n",
    "test_kwargs(name=name,age=age)\n",
    "\n",
    "# 예 3)\n",
    "import matplotlib.pyplot as plt\n",
    "def myImgShow(**kwargs):\n",
    "    for x1,y1 in zip(kwargs['x'],kwargs['y']):\n",
    "        plt.imshow(x1)\n",
    "        plt.title(y1)\n",
    "        plt.show()\n",
    "img=[\n",
    "    [[[255,0,0],[0,255,0]],\n",
    "    [[0,0,0],[0,0,0]],\n",
    "    [[255,0,0],[0,255,0]],\n",
    "    [[255,0,0],[0,255,0]]],\n",
    "\n",
    "    [[[0,0,0],[0,255,0]],\n",
    "    [[0,0,0],[0,0,0]],\n",
    "    [[255,0,0],[0,255,0]],\n",
    "    [[255,0,0],[0,0,0]]]\n",
    "]\n",
    "label=['dog','cat']\n",
    "myImgShow(x=img,y=label)"
   ]
  },
  {
   "cell_type": "markdown",
   "metadata": {},
   "source": [
    "#### *변수명(*args), **변수명(**kwargs): 같이 사용할 경우, 순서는 아래와 같다.\n",
    "\n",
    "```python\n",
    "def 함수_이름(*변수명, **매개변수):\n",
    "    수행할_문장\n",
    "```"
   ]
  },
  {
   "cell_type": "markdown",
   "metadata": {},
   "source": [
    "## 함수 범위\n",
    "### 설명 \n",
    "- 파이썬은 Lexical Scoping로 블록 또는 함수 내부에서만 유효하다.\n",
    "- 함수 밖에 있는 값에 대해서 변경하는 방법은 아래 2가지이다."
   ]
  },
  {
   "cell_type": "markdown",
   "metadata": {},
   "source": [
    "#### 방법 1) return 사용"
   ]
  },
  {
   "cell_type": "code",
   "execution_count": 19,
   "metadata": {},
   "outputs": [],
   "source": [
    "a = 1\n",
    "def vartest(a):\n",
    "    a = a + 1\n",
    "    return a\n",
    "\n",
    "a = vartest(a)"
   ]
  },
  {
   "cell_type": "markdown",
   "metadata": {},
   "source": [
    "#### 방법 2) global 사용\n",
    "- 함수 밖에 변수에 직접 접근이 가능하지만, \n",
    "  함수는 독립적으로 존재하는 것이 아래 가독성과 관리성 측면에서 좋다.\n",
    "  global 사용을 비권장한다. "
   ]
  },
  {
   "cell_type": "code",
   "execution_count": 20,
   "metadata": {},
   "outputs": [
    {
     "name": "stdout",
     "output_type": "stream",
     "text": [
      "2\n"
     ]
    }
   ],
   "source": [
    "a = 1 \n",
    "def vartest(): \n",
    "    global a \n",
    "    a = a+1\n",
    "\n",
    "vartest() \n",
    "print(a)"
   ]
  },
  {
   "cell_type": "markdown",
   "metadata": {},
   "source": [
    "# lambda\n",
    "## 설명\n",
    "- lambda는 함수를 생성할 떄 사용하는 예약어로, def와 동일한 역할을 한다.\n",
    "- 복잡하지 않거나, def를 사용할 수 없는 곳에 사용된다.\n",
    "- 사용 방법\n",
    "   - 함수_이름 = lambda 매개변수1, 매개변수2, ... : 매개변수를_이용한_표현식"
   ]
  },
  {
   "cell_type": "code",
   "execution_count": 1,
   "metadata": {},
   "outputs": [
    {
     "name": "stdout",
     "output_type": "stream",
     "text": [
      "7\n"
     ]
    }
   ],
   "source": [
    "add = lambda a, b: a+b\n",
    "result = add(3, 4)\n",
    "print(result)"
   ]
  }
 ],
 "metadata": {
  "kernelspec": {
   "display_name": "OpenAI",
   "language": "python",
   "name": "python3"
  },
  "language_info": {
   "codemirror_mode": {
    "name": "ipython",
    "version": 3
   },
   "file_extension": ".py",
   "mimetype": "text/x-python",
   "name": "python",
   "nbconvert_exporter": "python",
   "pygments_lexer": "ipython3",
   "version": "3.12.1"
  }
 },
 "nbformat": 4,
 "nbformat_minor": 2
}
