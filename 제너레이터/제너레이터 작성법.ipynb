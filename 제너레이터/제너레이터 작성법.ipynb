{
 "cells": [
  {
   "cell_type": "markdown",
   "metadata": {},
   "source": [
    "# 제너레이터"
   ]
  },
  {
   "cell_type": "code",
   "execution_count": 21,
   "metadata": {},
   "outputs": [
    {
     "name": "stdout",
     "output_type": "stream",
     "text": [
      "1\n",
      "2\n"
     ]
    }
   ],
   "source": [
    "def generator_function():\n",
    "    yield 1\n",
    "    yield 2\n",
    "    yield 3\n",
    "\n",
    "gen = generator_function()\n",
    "print(next(gen))\n",
    "print(next(gen))"
   ]
  },
  {
   "cell_type": "code",
   "execution_count": 28,
   "metadata": {},
   "outputs": [
    {
     "name": "stdout",
     "output_type": "stream",
     "text": [
      "Start\n",
      "Received: 10\n",
      "Coroutine finished.\n"
     ]
    }
   ],
   "source": [
    "def simple_coroutine():\n",
    "    print(\"Start\")\n",
    "    x = yield  # yield 문에 값을 반환하지 않고 일시 중단\n",
    "    print(f\"Received: {x}\")\n",
    "\n",
    "# 코루틴을 생성하고 시작\n",
    "coroutine = simple_coroutine()\n",
    "next(coroutine)  # Start를 출력하고 일시 중단\n",
    "\n",
    "# 코루틴에 값 전달\n",
    "try:\n",
    "    coroutine.send(10)  # Received: 10을 출력하고 종료\n",
    "except StopIteration:\n",
    "    print(\"Coroutine finished.\")\n"
   ]
  }
 ],
 "metadata": {
  "kernelspec": {
   "display_name": "OpenAI",
   "language": "python",
   "name": "python3"
  },
  "language_info": {
   "codemirror_mode": {
    "name": "ipython",
    "version": 3
   },
   "file_extension": ".py",
   "mimetype": "text/x-python",
   "name": "python",
   "nbconvert_exporter": "python",
   "pygments_lexer": "ipython3",
   "version": "3.12.1"
  }
 },
 "nbformat": 4,
 "nbformat_minor": 2
}
