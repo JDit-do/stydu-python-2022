{
 "cells": [
  {
   "cell_type": "markdown",
   "metadata": {},
   "source": [
    "# file 읽을 때, os와 glob 차이\n",
    "사용모듈\n",
    "- os.listdir\n",
    "- golb"
   ]
  },
  {
   "cell_type": "code",
   "execution_count": 3,
   "metadata": {},
   "outputs": [
    {
     "data": {
      "text/plain": [
       "['.git', 'file', 'image', 'README.md']"
      ]
     },
     "execution_count": 3,
     "metadata": {},
     "output_type": "execute_result"
    }
   ],
   "source": [
    "import os\n",
    "from glob import glob\n",
    "\n",
    "# 경로 없이 파일명과 폴더명을 보여줌 - ['file', 'image', 'README.md']\n",
    "os.listdir('.')\n",
    "glob('*')\n",
    "\n",
    "# 경로 포함: 예, img/a.jpg가 있다면 glob('./img/*) ==> \\\\img\\\\a.jpg\n",
    "glob('./*') # ['.\\\\file', '.\\\\image', '.\\\\README.md']\n"
   ]
  },
  {
   "cell_type": "markdown",
   "metadata": {},
   "source": [
    "## os.listdir 활용하여, 파일 열기전 파일 존재 여부 확인.\n",
    "### os.listdir('.') - for문 이용"
   ]
  },
  {
   "cell_type": "code",
   "execution_count": 8,
   "metadata": {},
   "outputs": [],
   "source": [
    "findFile = 'card.csv'\n",
    "\n",
    "for i in os.listdir('.'):\n",
    "    if i == findFile:\n",
    "        print(findFile, '있음')\n",
    "        break"
   ]
  },
  {
   "cell_type": "markdown",
   "metadata": {},
   "source": [
    "### os.listdir('.') - index 메소드 활용\n",
    "- 가져온 리스트에 검색에 해당하는 파일이있는가?: fileList.index(card.csv)\n",
    "    - 인덱스 명령은 위치 값을 가져옴(e.g. 0, 1, 2, 3, ...)"
   ]
  },
  {
   "cell_type": "code",
   "execution_count": 17,
   "metadata": {},
   "outputs": [
    {
     "name": "stdout",
     "output_type": "stream",
     "text": [
      "파일 있음\n"
     ]
    }
   ],
   "source": [
    "fileList = os.listdir('.')\n",
    "findFile = '.git'\n",
    "\n",
    "try:\n",
    "    fileList.index(findFile)\n",
    "    print('파일 있음')\n",
    "except:\n",
    "    print('파일 없음')\n"
   ]
  },
  {
   "cell_type": "markdown",
   "metadata": {},
   "source": [
    "## glob 활용하여, 파일 열기전 파일 존재 여부 확인."
   ]
  },
  {
   "cell_type": "code",
   "execution_count": 27,
   "metadata": {},
   "outputs": [
    {
     "name": "stdout",
     "output_type": "stream",
     "text": [
      "다음 파일들이 존재합니다:\n",
      "file\n",
      "for\n",
      "image\n",
      "README.md\n",
      "시각화\n"
     ]
    }
   ],
   "source": [
    "import glob\n",
    "\n",
    "# 파일을 찾을 패턴 설정\n",
    "pattern = '*'  # 예시: txt 확장자를 가진 모든 파일\n",
    "\n",
    "# glob를 사용하여 해당 패턴의 파일 목록을 가져옴\n",
    "fileList = glob.glob(pattern)\n",
    "\n",
    "# 파일 목록이 비어있는지 확인\n",
    "if not fileList:\n",
    "    print(\"파일이 존재하지 않습니다.\")\n",
    "else:\n",
    "    print(\"다음 파일들이 존재합니다:\")\n",
    "    for filePath in fileList:\n",
    "        print(filePath.split('/')[-1])"
   ]
  }
 ],
 "metadata": {
  "kernelspec": {
   "display_name": "OpenAI",
   "language": "python",
   "name": "python3"
  },
  "language_info": {
   "codemirror_mode": {
    "name": "ipython",
    "version": 3
   },
   "file_extension": ".py",
   "mimetype": "text/x-python",
   "name": "python",
   "nbconvert_exporter": "python",
   "pygments_lexer": "ipython3",
   "version": "3.12.1"
  }
 },
 "nbformat": 4,
 "nbformat_minor": 2
}
